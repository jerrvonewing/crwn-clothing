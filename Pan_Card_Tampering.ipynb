{
  "nbformat": 4,
  "nbformat_minor": 0,
  "metadata": {
    "colab": {
      "name": "Pan Card Tampering.ipynb",
      "provenance": [],
      "collapsed_sections": [],
      "authorship_tag": "ABX9TyMfpK8byfmkCuxkKjWVJHJz",
      "include_colab_link": true
    },
    "kernelspec": {
      "name": "python3",
      "display_name": "Python 3"
    },
    "language_info": {
      "name": "python"
    },
    "accelerator": "GPU",
    "gpuClass": "standard"
  },
  "cells": [
    {
      "cell_type": "markdown",
      "metadata": {
        "id": "view-in-github",
        "colab_type": "text"
      },
      "source": [
        "<a href=\"https://colab.research.google.com/github/jerrvonewing/crwn-clothing/blob/main/Pan_Card_Tampering.ipynb\" target=\"_parent\"><img src=\"https://colab.research.google.com/assets/colab-badge.svg\" alt=\"Open In Colab\"/></a>"
      ]
    },
    {
      "cell_type": "markdown",
      "source": [
        "#### The purpose of this project is to detect tampering of PAN card using computer vision. This project will help different organizations in detecting whether the Id card provided to them by thier employees, customers, or anyone is original or not."
      ],
      "metadata": {
        "id": "UGHMeMYVKXk6"
      }
    },
    {
      "cell_type": "code",
      "execution_count": 4,
      "metadata": {
        "id": "m-EQ_0P7Bt36"
      },
      "outputs": [],
      "source": [
        "# import packages\n",
        "from skimage.metrics import structural_similarity\n",
        "import imutils\n",
        "import cv2\n",
        "from PIL import Image\n",
        "import requests"
      ]
    },
    {
      "cell_type": "code",
      "source": [
        "!mkdir pan_card_tampering\n",
        "!mkdir pan_card_tampering/image"
      ],
      "metadata": {
        "id": "XGp94R5nCemT"
      },
      "execution_count": 1,
      "outputs": []
    },
    {
      "cell_type": "code",
      "source": [
        "# Open image and display it\n",
        "original = Image.open(requests.get('https://www.thestatesman.com/wp-content/uploads/2019/07/pan-card.jpg', stream=True).raw)\n",
        "tampered = Image.open(requests.get('https://assets1.cleartax-cdn.com/s/img/20170526124335/Pan4.png', stream=True).raw)"
      ],
      "metadata": {
        "id": "z6KcqUgLEc3o"
      },
      "execution_count": 5,
      "outputs": []
    },
    {
      "cell_type": "markdown",
      "source": [
        "#### Loading original and user provided images."
      ],
      "metadata": {
        "id": "0gGOzlI9K32S"
      }
    },
    {
      "cell_type": "code",
      "source": [
        "# Check the file format \n",
        "print(\"Original image format: \", original.format)\n",
        "print(\"Tampered image format: \", tampered.format)\n",
        "\n",
        "# Check the file dimensions in pixels (width, height)\n",
        "print(\"Original image size: \", original.size)\n",
        "print(\"Tampered image size: \", tampered.size)"
      ],
      "metadata": {
        "id": "zCyU6psgFW-j"
      },
      "execution_count": null,
      "outputs": []
    },
    {
      "cell_type": "markdown",
      "source": [
        "#### Converting the format of  tampered image similar to original image."
      ],
      "metadata": {
        "id": "iZJw4Ve7LBOp"
      }
    },
    {
      "cell_type": "code",
      "source": [
        "# Resize and save image\n",
        "original = original.resize((250, 160))\n",
        "print(original.size)\n",
        "original.save('pan_card_tampering/image/original.png')\n",
        "\n",
        "tampered = tampered.resize((250, 160))\n",
        "print(tampered.size)\n",
        "tampered.save('pan_card_tampering/image/tampered.png')"
      ],
      "metadata": {
        "id": "DpJy33MmHk2W"
      },
      "execution_count": null,
      "outputs": []
    },
    {
      "cell_type": "code",
      "source": [
        "# Display original image\n",
        "original"
      ],
      "metadata": {
        "id": "jG4zQUT3Iiw6"
      },
      "execution_count": null,
      "outputs": []
    },
    {
      "cell_type": "code",
      "source": [
        "# Display user given image\n",
        "tampered"
      ],
      "metadata": {
        "id": "NDffcgBHImyc"
      },
      "execution_count": null,
      "outputs": []
    },
    {
      "cell_type": "markdown",
      "source": [
        "#### User provided image which will be compared with PAN card."
      ],
      "metadata": {
        "id": "8-v21EetOS2i"
      }
    },
    {
      "cell_type": "code",
      "source": [
        "# Load the two input images\n",
        "original = cv2.imread('pan_card_tampering/image/original.png')\n",
        "tampered = cv2.imread('pan_card_tampering/image/tampered.png')"
      ],
      "metadata": {
        "id": "6bEpcfJQI4Z2"
      },
      "execution_count": 11,
      "outputs": []
    },
    {
      "cell_type": "code",
      "source": [
        "# Convert images to grayscale\n",
        "original_gray = cv2.cvtColor(original, cv2.COLOR_BGR2GRAY)\n",
        "tampered_gray = cv2.cvtColor(tampered, cv2.COLOR_BGR2GRAY)"
      ],
      "metadata": {
        "id": "VZf5DnRVJ4CI"
      },
      "execution_count": 14,
      "outputs": []
    },
    {
      "cell_type": "markdown",
      "source": [
        "#### Converting images into grayscale using opencv. Because in image processing many applications doesn't help us in identifying the important, edges of the coloured images also coloured images are bit complex to understand by machine beacuse they have 3 channel while grayscale has only 1 channel."
      ],
      "metadata": {
        "id": "nGTLIuujPAOr"
      }
    },
    {
      "cell_type": "code",
      "source": [
        ""
      ],
      "metadata": {
        "id": "e2wm29GuP-GH"
      },
      "execution_count": null,
      "outputs": []
    }
  ]
}